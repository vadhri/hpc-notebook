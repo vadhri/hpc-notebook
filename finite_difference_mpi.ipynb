{
  "nbformat": 4,
  "nbformat_minor": 0,
  "metadata": {
    "colab": {
      "provenance": [],
      "authorship_tag": "ABX9TyO3yEKGwM+1vCGg/RiCS0SC",
      "include_colab_link": true
    },
    "kernelspec": {
      "name": "python3",
      "display_name": "Python 3"
    },
    "language_info": {
      "name": "python"
    }
  },
  "cells": [
    {
      "cell_type": "markdown",
      "metadata": {
        "id": "view-in-github",
        "colab_type": "text"
      },
      "source": [
        "<a href=\"https://colab.research.google.com/github/vadhri/hpc-notebook/blob/main/finite_difference_mpi.ipynb\" target=\"_parent\"><img src=\"https://colab.research.google.com/assets/colab-badge.svg\" alt=\"Open In Colab\"/></a>"
      ]
    },
    {
      "cell_type": "code",
      "execution_count": 8,
      "metadata": {
        "colab": {
          "base_uri": "https://localhost:8080/"
        },
        "id": "alyjyTqsFSH6",
        "outputId": "06f99650-d39f-42f7-f115-a439b22d052c"
      },
      "outputs": [
        {
          "output_type": "stream",
          "name": "stdout",
          "text": [
            "Requirement already satisfied: mpi4py in /usr/local/lib/python3.11/dist-packages (4.0.3)\n",
            "Reading package lists... Done\n",
            "Building dependency tree... Done\n",
            "Reading state information... Done\n",
            "openmpi-bin is already the newest version (4.1.2-2ubuntu1).\n",
            "0 upgraded, 0 newly installed, 0 to remove and 29 not upgraded.\n"
          ]
        }
      ],
      "source": [
        "!pip install mpi4py\n",
        "!apt-get install -y openmpi-bin\n"
      ]
    },
    {
      "cell_type": "code",
      "source": [
        "!mpiexec --version\n",
        "!echo \"localhost slots=4\" > my_hostfile"
      ],
      "metadata": {
        "colab": {
          "base_uri": "https://localhost:8080/"
        },
        "id": "5yYEdglxFZJh",
        "outputId": "73b479cd-9239-474c-c655-326444eb7148"
      },
      "execution_count": 9,
      "outputs": [
        {
          "output_type": "stream",
          "name": "stdout",
          "text": [
            "mpiexec (OpenRTE) 4.1.2\n",
            "\n",
            "Report bugs to http://www.open-mpi.org/community/help/\n"
          ]
        }
      ]
    },
    {
      "cell_type": "code",
      "source": [
        "%%writefile finite-diff-2d.py\n",
        "from mpi4py import MPI\n",
        "import numpy as np\n",
        "\n",
        "comm = MPI.COMM_WORLD\n",
        "rank = comm.Get_rank()\n",
        "size = comm.Get_size()\n",
        "\n",
        "rows, cols = 10000, 15000  # Adjust as needed\n",
        "np.random.seed(42)\n",
        "\n",
        "if rank == 0:\n",
        "    array_2d = np.random.rand(rows, cols) * 100\n",
        "    print(f\"Process 0 broadcasting array:\\n{array_2d.shape}\")\n",
        "\n",
        "    # Create column splits ensuring interior points exist\n",
        "    split_sizes = np.linspace(1, cols - 1, size + 1, dtype=int)  # Avoids first & last column\n",
        "    subarrays = [\n",
        "        array_2d[:, split_sizes[i] - 1 : split_sizes[i + 1] + 1]  # Include 1 extra column on each side\n",
        "        for i in range(size)\n",
        "    ]\n",
        "\n",
        "    valid_starts = [split_sizes[i] - 1 for i in range(size)]  # Track where diffs start\n",
        "    valid_col_counts = [split_sizes[i + 1] - split_sizes[i] for i in range(size)]  # Actual diff columns\n",
        "    counts = np.array([subarray.size for subarray in subarrays], dtype=np.int32)\n",
        "    displacements = np.insert(np.cumsum(counts), 0, 0)[:-1].astype(np.int32)\n",
        "    flat_data = np.concatenate([subarray.flatten() for subarray in subarrays])\n",
        "else:\n",
        "    counts = displacements = flat_data = valid_col_counts = valid_starts = None\n",
        "\n",
        "# Broadcast meta info\n",
        "valid_col_counts = comm.bcast(valid_col_counts, root=0)\n",
        "valid_starts = comm.bcast(valid_starts, root=0)\n",
        "counts = comm.bcast(counts, root=0)\n",
        "displacements = comm.bcast(displacements, root=0)\n",
        "\n",
        "# Allocate buffer and scatter data\n",
        "recv_size = counts[rank]\n",
        "recv_data = np.zeros(recv_size, dtype=np.float64)\n",
        "comm.Scatterv([flat_data, counts, displacements, MPI.DOUBLE], recv_data, root=0)\n",
        "\n",
        "# Reshape to 2D\n",
        "recv_cols = recv_size // rows\n",
        "recv_data_2d = recv_data.reshape(rows, recv_cols)\n",
        "\n",
        "# Debug: Check subarray received per rank\n",
        "print(f\"Rank {rank}: Received subarray shape = {recv_data_2d.shape}\")\n",
        "\n",
        "# Compute finite difference safely\n",
        "finite_diff_cols = valid_col_counts[rank]\n",
        "finite_diff = np.zeros((rows, finite_diff_cols), dtype=np.float64)\n",
        "\n",
        "for j in range(finite_diff_cols):\n",
        "    if j + 2 < recv_cols:  # Ensure index within range\n",
        "        finite_diff[:, j] = (recv_data_2d[:, j + 2] - recv_data_2d[:, j]) / 2.0\n",
        "\n",
        "# Gather results\n",
        "sendbuf = finite_diff.flatten()\n",
        "recvcounts = comm.gather(sendbuf.size, root=0)\n",
        "\n",
        "if rank == 0:\n",
        "    total_recv_size = sum(recvcounts)\n",
        "    recvbuf = np.empty(total_recv_size, dtype=np.float64)\n",
        "    displacements = np.insert(np.cumsum(recvcounts), 0, 0)[:-1].astype(np.int32)\n",
        "else:\n",
        "    recvbuf = None\n",
        "    displacements = None\n",
        "\n",
        "comm.Gatherv(sendbuf, [recvbuf, recvcounts, displacements, MPI.DOUBLE], root=0)\n",
        "\n",
        "if rank == 0:\n",
        "    expected_cols = cols - 2\n",
        "    merged_finite_diff = np.zeros((rows, expected_cols), dtype=np.float64)\n",
        "    offset = 0\n",
        "    for i in range(size):\n",
        "        if valid_col_counts[i] > 0:\n",
        "            cols_for_rank = valid_col_counts[i]\n",
        "            data = recvbuf[offset : offset + rows * cols_for_rank].reshape(rows, cols_for_rank)\n",
        "            start_col = valid_starts[i]\n",
        "            merged_finite_diff[:, start_col : start_col + cols_for_rank] = data\n",
        "            offset += rows * cols_for_rank\n",
        "\n",
        "    print(\"Merged Finite Difference Array at Process 0:\", merged_finite_diff.shape)\n",
        "    np.savetxt(\"finite_diff.txt\", merged_finite_diff, fmt=\"%.6f\")\n"
      ],
      "metadata": {
        "colab": {
          "base_uri": "https://localhost:8080/"
        },
        "id": "iMaLRLqEFdNl",
        "outputId": "5fe357a2-d5a9-4ee2-b659-7b356a808aee"
      },
      "execution_count": 10,
      "outputs": [
        {
          "output_type": "stream",
          "name": "stdout",
          "text": [
            "Overwriting finite-diff-2d.py\n"
          ]
        }
      ]
    },
    {
      "cell_type": "code",
      "source": [
        "!sudo mpirun  --allow-run-as-root --hostfile my_hostfile -np 4 python finite-diff-2d.py"
      ],
      "metadata": {
        "colab": {
          "base_uri": "https://localhost:8080/"
        },
        "id": "coBIsnf-FqXw",
        "outputId": "06db0774-0d3d-4cde-9b57-5305db17358e"
      },
      "execution_count": 11,
      "outputs": [
        {
          "output_type": "stream",
          "name": "stdout",
          "text": [
            "Process 0 broadcasting array:\n",
            "(10000, 15000)\n",
            "Rank 1: Received subarray shape = (10000, 3752)\n",
            "Rank 2: Received subarray shape = (10000, 3751)\n",
            "Rank 3: Received subarray shape = (10000, 3752)\n",
            "Rank 0: Received subarray shape = (10000, 3751)\n",
            "Merged Finite Difference Array at Process 0: (10000, 14998)\n"
          ]
        }
      ]
    },
    {
      "cell_type": "code",
      "source": [
        "import numpy as np\n",
        "\n",
        "rows, cols = 10000, 15000  # Adjust as needed\n",
        "np.random.seed(42)  # For reproducibility\n",
        "\n",
        "array_2d = np.random.rand(rows, cols) * 100  # Random values between 0 and 100\n",
        "\n",
        "print(\"Original Array:\", array_2d.shape)\n",
        "\n",
        "# Compute finite difference in the X direction (central differences only)\n",
        "finite_diff_x = (array_2d[:, 2:] - array_2d[:, :-2]) / 2  # Only central cols\n",
        "\n",
        "print(\"\\nFinite Difference in the X Direction (Horizontal Differences):\")\n",
        "print(finite_diff_x.shape)\n",
        "\n",
        "# Save the result (6 columns)\n",
        "np.savetxt(\"finite_diff_np.txt\", finite_diff_x, fmt=\"%.6f\")\n"
      ],
      "metadata": {
        "colab": {
          "base_uri": "https://localhost:8080/"
        },
        "id": "W-BRu8WrGJ16",
        "outputId": "cfe82c1a-bad1-4eb1-9db1-eb48c2d74ab2"
      },
      "execution_count": 15,
      "outputs": [
        {
          "output_type": "stream",
          "name": "stdout",
          "text": [
            "Original Array: (10000, 15000)\n",
            "\n",
            "Finite Difference in the X Direction (Horizontal Differences):\n",
            "(10000, 14998)\n"
          ]
        }
      ]
    },
    {
      "cell_type": "code",
      "source": [
        "# load file into variable\n",
        "finite_diff_np = np.loadtxt(\"finite_diff_np.txt\")\n",
        "finite_diff = np.loadtxt(\"finite_diff.txt\")\n",
        "finite_diff_np.shape, finite_diff.shape"
      ],
      "metadata": {
        "colab": {
          "base_uri": "https://localhost:8080/"
        },
        "id": "fmk85ZbXU7Ib",
        "outputId": "a01b749a-5476-4687-876d-64905a97cbdf"
      },
      "execution_count": 16,
      "outputs": [
        {
          "output_type": "execute_result",
          "data": {
            "text/plain": [
              "((10000, 14998), (10000, 14998))"
            ]
          },
          "metadata": {},
          "execution_count": 16
        }
      ]
    },
    {
      "cell_type": "code",
      "source": [
        "np.all(np.isclose(finite_diff_np, finite_diff))"
      ],
      "metadata": {
        "id": "D2WBcLnGYZRA",
        "colab": {
          "base_uri": "https://localhost:8080/"
        },
        "outputId": "e4fb38dd-071e-44dc-8556-082ada4ff8b4"
      },
      "execution_count": 17,
      "outputs": [
        {
          "output_type": "execute_result",
          "data": {
            "text/plain": [
              "True"
            ]
          },
          "metadata": {},
          "execution_count": 17
        }
      ]
    }
  ]
}