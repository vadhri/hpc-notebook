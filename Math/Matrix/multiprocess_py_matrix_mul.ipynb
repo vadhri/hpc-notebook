{
  "nbformat": 4,
  "nbformat_minor": 0,
  "metadata": {
    "colab": {
      "provenance": [],
      "authorship_tag": "ABX9TyNM7RXuKgXAzpv+zaQOBr9R",
      "include_colab_link": true
    },
    "kernelspec": {
      "name": "python3",
      "display_name": "Python 3"
    },
    "language_info": {
      "name": "python"
    }
  },
  "cells": [
    {
      "cell_type": "markdown",
      "metadata": {
        "id": "view-in-github",
        "colab_type": "text"
      },
      "source": [
        "<a href=\"https://colab.research.google.com/github/vadhri/hpc-notebook/blob/main/Math/Matrix/multiprocess_py_matrix_mul.ipynb\" target=\"_parent\"><img src=\"https://colab.research.google.com/assets/colab-badge.svg\" alt=\"Open In Colab\"/></a>"
      ]
    },
    {
      "cell_type": "markdown",
      "source": [
        "### Processes\n",
        "\n",
        "The logic below uses the multiprocess module of python and does matrix multiplication with memory of 2 source and 1 target array in shared memory."
      ],
      "metadata": {
        "id": "3SSzJ9aTE0Un"
      }
    },
    {
      "cell_type": "code",
      "execution_count": 2,
      "metadata": {
        "colab": {
          "base_uri": "https://localhost:8080/"
        },
        "id": "wbcZywjybWgN",
        "outputId": "7b283618-738c-4e91-c0ef-60d75e9ea3ac"
      },
      "outputs": [
        {
          "output_type": "stream",
          "name": "stdout",
          "text": [
            "Multiplication operations (117, 213) X (213, 300) = 35100 mp.cpu_count() =  2\n",
            "True\n"
          ]
        }
      ],
      "source": [
        "import multiprocessing as mp\n",
        "import numpy as np\n",
        "from multiprocessing import shared_memory\n",
        "from itertools import product\n",
        "\n",
        "# Generate random matrices\n",
        "m1 = np.random.rand(117, 213)\n",
        "m2 = np.random.rand(213, 300)\n",
        "\n",
        "def multiply(args):\n",
        "    row, col, shape_m1, shape_m2, name_m1, name_m2, name_out = args\n",
        "\n",
        "    # Attach to existing shared memory blocks\n",
        "    existing_m1 = shared_memory.SharedMemory(name=name_m1)\n",
        "    existing_m2 = shared_memory.SharedMemory(name=name_m2)\n",
        "    existing_out = shared_memory.SharedMemory(name=name_out)\n",
        "\n",
        "    # Reconstruct arrays from shared memory\n",
        "    sm1 = np.ndarray(shape_m1, dtype=np.float64, buffer=existing_m1.buf)\n",
        "    sm2 = np.ndarray(shape_m2, dtype=np.float64, buffer=existing_m2.buf)\n",
        "    out_matrix = np.ndarray((shape_m1[0], shape_m2[1]), dtype=np.float64, buffer=existing_out.buf)\n",
        "\n",
        "    # Perform multiplication directly in shared memory\n",
        "    out_matrix[row, col] = np.dot(sm1[row, :], sm2[:, col])\n",
        "\n",
        "    # Close shared memory in child process\n",
        "    existing_m1.close()\n",
        "    existing_m2.close()\n",
        "    existing_out.close()\n",
        "\n",
        "if __name__ == \"__main__\":\n",
        "    total_ops = m1.shape[0] * m2.shape[1]\n",
        "\n",
        "    # Create shared memory blocks\n",
        "    shm_m1 = shared_memory.SharedMemory(create=True, size=m1.nbytes)\n",
        "    shm_m2 = shared_memory.SharedMemory(create=True, size=m2.nbytes)\n",
        "    shm_out = shared_memory.SharedMemory(create=True, size=m1.shape[0] * m2.shape[1] * np.dtype(np.float64).itemsize)\n",
        "\n",
        "    # Create shared NumPy arrays\n",
        "    sm1 = np.ndarray(m1.shape, dtype=np.float64, buffer=shm_m1.buf)\n",
        "    sm2 = np.ndarray(m2.shape, dtype=np.float64, buffer=shm_m2.buf)\n",
        "    out_matrix = np.ndarray((m1.shape[0], m2.shape[1]), dtype=np.float64, buffer=shm_out.buf)\n",
        "\n",
        "    # Copy data into shared memory without duplicating\n",
        "    np.copyto(sm1, m1)\n",
        "    np.copyto(sm2, m2)\n",
        "\n",
        "    print(f\"Multiplication operations {m1.shape} X {m2.shape} = {total_ops} mp.cpu_count() = \", mp.cpu_count())\n",
        "\n",
        "    pool = mp.Pool(processes=mp.cpu_count())\n",
        "\n",
        "    # Generate tasks with shared memory names\n",
        "    tasks = [(row, col, m1.shape, m2.shape, shm_m1.name, shm_m2.name, shm_out.name)\n",
        "             for row, col in product(range(m1.shape[0]), range(m2.shape[1]))]\n",
        "\n",
        "    with pool:\n",
        "        pool.map(multiply, tasks)\n",
        "\n",
        "    # Convert shared output to a NumPy array\n",
        "    output = np.copy(out_matrix)\n",
        "\n",
        "    # Cleanup shared memory\n",
        "    shm_m1.close()\n",
        "    shm_m1.unlink()\n",
        "    shm_m2.close()\n",
        "    shm_m2.unlink()\n",
        "    shm_out.close()\n",
        "    shm_out.unlink()\n",
        "\n",
        "    print(np.all(np.isclose(np.dot(m1, m2), output, atol=0.0001)))\n"
      ]
    },
    {
      "cell_type": "markdown",
      "source": [],
      "metadata": {
        "id": "ruiMTBy5FK3_"
      }
    },
    {
      "cell_type": "code",
      "source": [
        "from time import sleep\n",
        "from datetime import datetime\n",
        "\n",
        "def add(a,b):\n",
        "  print (f\"Process {i} at {datetime.now()}; value = {a+b} \\n\")\n",
        "\n",
        "processes = []\n",
        "for i in range(2):\n",
        "    process = mp.Process(target=add, args=(i,i))\n",
        "    processes.append(process)\n",
        "    process.start()\n",
        "\n",
        "for process in processes:\n",
        "  process.join()"
      ],
      "metadata": {
        "id": "hmJBkw77MPUM",
        "colab": {
          "base_uri": "https://localhost:8080/"
        },
        "outputId": "1db01447-a0bc-4ee7-f7de-5affdbceb166"
      },
      "execution_count": 3,
      "outputs": [
        {
          "output_type": "stream",
          "name": "stdout",
          "text": [
            "Process 0 at 2025-02-24 05:18:11.665544; value = 0 \n",
            "\n",
            "Process 1 at 2025-02-24 05:18:11.676098; value = 2 \n",
            "\n"
          ]
        }
      ]
    },
    {
      "cell_type": "markdown",
      "source": [
        "### Threads\n",
        "\n",
        "Threading to calculte sum(a*b)"
      ],
      "metadata": {
        "id": "hgxXOhzXLjRP"
      }
    },
    {
      "cell_type": "code",
      "source": [
        "import threading\n",
        "\n",
        "N = 20000\n",
        "# Generate random matrices\n",
        "m1 = np.random.random((N,N))\n",
        "m2 = np.random.random((N,N))\n",
        "\n",
        "max_threads = 2\n",
        "sum = 0.0\n",
        "blocksize = N//max_threads\n",
        "\n",
        "tlock = threading.Lock()\n",
        "\n",
        "def array_multiply(thread_idx):\n",
        "  global sum\n",
        "  start = (thread_idx * blocksize)\n",
        "  end = ((thread_idx + 1) * blocksize)\n",
        "  local_sum = np.sum(m1[start:end,:] * m2[start:end,:])\n",
        "  tlock.acquire()\n",
        "  sum += local_sum\n",
        "  tlock.release()\n",
        "\n",
        "t1 = datetime.now()\n",
        "\n",
        "threads = []\n",
        "for i in range(max_threads):\n",
        "  thread = threading.Thread(target=array_multiply, args=(i,))\n",
        "  threads.append(thread)\n",
        "  thread.start()\n",
        "\n",
        "for t in threads:\n",
        "  t.join()\n",
        "\n",
        "print (f'Time taken with {max_threads} threads : {datetime.now()-t1}')\n",
        "\n",
        "t1 = datetime.now()\n",
        "print (np.sum(np.multiply(m1, m2)), sum)\n",
        "print (f'Time taken without threads : {datetime.now()-t1}')\n"
      ],
      "metadata": {
        "colab": {
          "base_uri": "https://localhost:8080/"
        },
        "id": "Do4D30LZFyd5",
        "outputId": "c3eae847-ac67-4b11-a6c8-3056792ccb5e"
      },
      "execution_count": 5,
      "outputs": [
        {
          "output_type": "stream",
          "name": "stdout",
          "text": [
            "Time taken with 2 threads : 0:00:01.663371\n",
            "99999573.15497263 99999573.15497178\n",
            "Time taken without threads : 0:00:01.937003\n"
          ]
        }
      ]
    },
    {
      "cell_type": "code",
      "source": [],
      "metadata": {
        "id": "VDiWAqMdOKj5"
      },
      "execution_count": 4,
      "outputs": []
    }
  ]
}