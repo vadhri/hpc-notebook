{
  "nbformat": 4,
  "nbformat_minor": 0,
  "metadata": {
    "colab": {
      "provenance": [],
      "authorship_tag": "ABX9TyPL4Txn4G8W5boEIv64Ujie",
      "include_colab_link": true
    },
    "kernelspec": {
      "name": "python3",
      "display_name": "Python 3"
    },
    "language_info": {
      "name": "python"
    }
  },
  "cells": [
    {
      "cell_type": "markdown",
      "metadata": {
        "id": "view-in-github",
        "colab_type": "text"
      },
      "source": [
        "<a href=\"https://colab.research.google.com/github/vadhri/hpc-notebook/blob/main/mpi.ipynb\" target=\"_parent\"><img src=\"https://colab.research.google.com/assets/colab-badge.svg\" alt=\"Open In Colab\"/></a>"
      ]
    },
    {
      "cell_type": "code",
      "execution_count": 25,
      "metadata": {
        "colab": {
          "base_uri": "https://localhost:8080/"
        },
        "id": "8gIyvsgYKPdm",
        "outputId": "0f71cbd3-aa54-4237-d8b8-bf36086a6e60"
      },
      "outputs": [
        {
          "output_type": "stream",
          "name": "stdout",
          "text": [
            "Requirement already satisfied: mpi4py in /usr/local/lib/python3.11/dist-packages (4.0.3)\n",
            "Reading package lists... Done\n",
            "Building dependency tree... Done\n",
            "Reading state information... Done\n",
            "openmpi-bin is already the newest version (4.1.2-2ubuntu1).\n",
            "openmpi-bin set to manually installed.\n",
            "0 upgraded, 0 newly installed, 0 to remove and 29 not upgraded.\n"
          ]
        }
      ],
      "source": [
        "!pip install mpi4py\n",
        "!apt-get install -y openmpi-bin\n"
      ]
    },
    {
      "cell_type": "code",
      "source": [
        "!mpiexec --version"
      ],
      "metadata": {
        "colab": {
          "base_uri": "https://localhost:8080/"
        },
        "id": "B3eevDRoWr5e",
        "outputId": "5267ef4c-1a59-4fdc-9cd6-b641ef3f18ae"
      },
      "execution_count": 3,
      "outputs": [
        {
          "output_type": "stream",
          "name": "stdout",
          "text": [
            "mpiexec (OpenRTE) 4.1.2\n",
            "\n",
            "Report bugs to http://www.open-mpi.org/community/help/\n"
          ]
        }
      ]
    },
    {
      "cell_type": "code",
      "source": [
        "%%writefile hello.py\n",
        "\n",
        "from mpi4py import MPI\n",
        "\n",
        "comm = MPI.COMM_WORLD\n",
        "procs = comm.Get_size()\n",
        "rank = comm.Get_rank()\n",
        "if rank == 0:\n",
        "  print(f\"Number of processes: {procs}\") ## will be printed by each process.(or each core / machine.)\n",
        "\n",
        "print(f\"Message from processes: {procs} Rank : {rank}\")\n"
      ],
      "metadata": {
        "colab": {
          "base_uri": "https://localhost:8080/"
        },
        "id": "Q9GH3tSXZSgI",
        "outputId": "d3667b93-0386-46f3-f34f-6012af54657d"
      },
      "execution_count": 13,
      "outputs": [
        {
          "output_type": "stream",
          "name": "stdout",
          "text": [
            "Overwriting send_recv.py\n"
          ]
        }
      ]
    },
    {
      "cell_type": "code",
      "source": [
        "!sudo mpirun  --allow-run-as-root --use-hwthread-cpus -np 2 python hello.py"
      ],
      "metadata": {
        "colab": {
          "base_uri": "https://localhost:8080/"
        },
        "id": "s-hrOaSIZwkt",
        "outputId": "0f4ac55a-df51-413c-eb56-956f0f0dafb6"
      },
      "execution_count": 37,
      "outputs": [
        {
          "output_type": "stream",
          "name": "stdout",
          "text": [
            "Number of processes: 2\n",
            "Message from processes: 2 Rank : 0\n",
            "Message from processes: 2 Rank : 1\n"
          ]
        }
      ]
    },
    {
      "cell_type": "code",
      "source": [
        "!lscpu | grep 'CPU(s)'\n"
      ],
      "metadata": {
        "colab": {
          "base_uri": "https://localhost:8080/"
        },
        "id": "y7eEzgAYav4v",
        "outputId": "89737841-a088-4e83-fdc0-eb7f613d12b5"
      },
      "execution_count": 36,
      "outputs": [
        {
          "output_type": "stream",
          "name": "stdout",
          "text": [
            "CPU(s):                               2\n",
            "On-line CPU(s) list:                  0,1\n",
            "NUMA node0 CPU(s):                    0,1\n"
          ]
        }
      ]
    },
    {
      "cell_type": "code",
      "source": [
        "!echo \"localhost slots=4\" > my_hostfile\n",
        "!sudo mpirun  --allow-run-as-root --hostfile my_hostfile -np 4 python send_recv.py"
      ],
      "metadata": {
        "colab": {
          "base_uri": "https://localhost:8080/"
        },
        "id": "uhOlvmT3pZhK",
        "outputId": "5e34a7d3-2f0f-4e14-9d4f-cfa41e52c20d"
      },
      "execution_count": 40,
      "outputs": [
        {
          "output_type": "stream",
          "name": "stdout",
          "text": [
            "Message from processes: 4 Rank : 2\n",
            "Number of processes: 4\n",
            "Message from processes: 4 Rank : 0\n",
            "Message from processes: 4 Rank : 3\n",
            "Message from processes: 4 Rank : 1\n"
          ]
        }
      ]
    },
    {
      "cell_type": "markdown",
      "source": [
        "### Single send-recv"
      ],
      "metadata": {
        "id": "LHuu_FNpqZb3"
      }
    },
    {
      "cell_type": "code",
      "source": [
        "%%writefile send_recv.py\n",
        "\n",
        "from mpi4py import MPI\n",
        "\n",
        "comm = MPI.COMM_WORLD  # Get the communicator\n",
        "rank = comm.Get_rank()  # Get the rank of the current process\n",
        "\n",
        "if rank == 0:\n",
        "    data = \"Hello from Process 0\"\n",
        "    comm.send(data, dest=1)  # Send data to process 1\n",
        "    print(f\"Process {rank} sent: {data}\")\n",
        "\n",
        "elif rank == 1:\n",
        "    received_data = comm.recv(source=0)  # Receive data from process 0\n",
        "    print(f\"Process {rank} received: {received_data}\")\n"
      ],
      "metadata": {
        "colab": {
          "base_uri": "https://localhost:8080/"
        },
        "id": "x9tWwhdSpkil",
        "outputId": "b71542a9-b00a-44df-9371-22bf4e7e8483"
      },
      "execution_count": 42,
      "outputs": [
        {
          "output_type": "stream",
          "name": "stdout",
          "text": [
            "Overwriting send_recv.py\n"
          ]
        }
      ]
    },
    {
      "cell_type": "code",
      "source": [
        "!sudo mpirun  --allow-run-as-root --hostfile my_hostfile -np 4 python send_recv.py"
      ],
      "metadata": {
        "colab": {
          "base_uri": "https://localhost:8080/"
        },
        "id": "kQ67V_2cp4Ci",
        "outputId": "0266caf3-b18b-456f-d6dc-10291b2c0719"
      },
      "execution_count": 43,
      "outputs": [
        {
          "output_type": "stream",
          "name": "stdout",
          "text": [
            "Process 0 sent: Hello from Process 0\n",
            "Process 1 received: Hello from Process 0\n"
          ]
        }
      ]
    },
    {
      "cell_type": "markdown",
      "source": [
        "### Bidirectional send-receive"
      ],
      "metadata": {
        "id": "Z5LJe_qVq3-0"
      }
    },
    {
      "cell_type": "code",
      "source": [
        "%%writefile send_recv_bidirectional.py\n",
        "from mpi4py import MPI\n",
        "\n",
        "comm = MPI.COMM_WORLD  # Get the communicator\n",
        "rank = comm.Get_rank()  # Get the rank of the current process\n",
        "\n",
        "if rank == 0:\n",
        "    data_to_send = \"Hello from Process 0\"\n",
        "    comm.send(data_to_send, dest=1)  # Send to Process 1\n",
        "    received_data = comm.recv(source=1)  # Receive from Process 1\n",
        "    print(f\"Process {rank} sent: {data_to_send}\")\n",
        "    print(f\"Process {rank} received: {received_data}\")\n",
        "\n",
        "elif rank == 1:\n",
        "    data_to_send = \"Hello from Process 1\"\n",
        "    received_data = comm.recv(source=0)  # Receive from Process 0\n",
        "    comm.send(data_to_send, dest=0)  # Send to Process 0\n",
        "    print(f\"Process {rank} received: {received_data}\")\n",
        "    print(f\"Process {rank} sent: {data_to_send}\")\n"
      ],
      "metadata": {
        "colab": {
          "base_uri": "https://localhost:8080/"
        },
        "id": "xWyYWUH-p_zt",
        "outputId": "4e90c618-89bf-4695-a840-3d7a9695af64"
      },
      "execution_count": 45,
      "outputs": [
        {
          "output_type": "stream",
          "name": "stdout",
          "text": [
            "Writing send_recv_bidirectional.py\n"
          ]
        }
      ]
    },
    {
      "cell_type": "code",
      "source": [
        "!sudo mpirun  --allow-run-as-root --hostfile my_hostfile -np 4 python send_recv_bidirectional.py"
      ],
      "metadata": {
        "colab": {
          "base_uri": "https://localhost:8080/"
        },
        "id": "AR3WkcEJqiG1",
        "outputId": "7d06210b-8a80-489e-e85a-8fba72c856f8"
      },
      "execution_count": 47,
      "outputs": [
        {
          "output_type": "stream",
          "name": "stdout",
          "text": [
            "Process 1 received: Hello from Process 0\n",
            "Process 1 sent: Hello from Process 1\n",
            "Process 0 sent: Hello from Process 0\n",
            "Process 0 received: Hello from Process 1\n"
          ]
        }
      ]
    },
    {
      "cell_type": "code",
      "source": [
        "%%writefile bidirec_square_numbers.py\n",
        "from mpi4py import MPI\n",
        "import time\n",
        "\n",
        "comm = MPI.COMM_WORLD\n",
        "rank = comm.Get_rank()\n",
        "\n",
        "num_iterations = 5  # Number of times we send/receive numbers\n",
        "\n",
        "if rank == 0:  # Sender process\n",
        "    for i in range(1, num_iterations + 1):\n",
        "        print(f\"Process {rank} sending: {i}\")\n",
        "        comm.send(i, dest=1)  # Send number to Process 1\n",
        "        squared_value = comm.recv(source=1)  # Receive squared value\n",
        "        print(f\"Process {rank} received squared: {squared_value}\")\n",
        "        time.sleep(1)  # Just to simulate processing delay\n",
        "\n",
        "elif rank == 1:  # Receiver process\n",
        "    for _ in range(num_iterations):\n",
        "        received_number = comm.recv(source=0)  # Receive number from Process 0\n",
        "        squared_number = received_number ** 2  # Square the number\n",
        "        comm.send(squared_number, dest=0)  # Send squared number back\n",
        "\n"
      ],
      "metadata": {
        "colab": {
          "base_uri": "https://localhost:8080/"
        },
        "id": "HHiP2uGBqmfS",
        "outputId": "cf8ae854-db59-491a-b9a6-4092fbcc19f0"
      },
      "execution_count": 49,
      "outputs": [
        {
          "output_type": "stream",
          "name": "stdout",
          "text": [
            "Writing bidirec_square_numbers.py\n"
          ]
        }
      ]
    },
    {
      "cell_type": "code",
      "source": [
        "!sudo mpirun  --allow-run-as-root --hostfile my_hostfile -np 4 python bidirec_square_numbers.py"
      ],
      "metadata": {
        "colab": {
          "base_uri": "https://localhost:8080/"
        },
        "id": "9eVt7RJyq_n-",
        "outputId": "dca78e29-6592-4913-e37c-bdf3aba4e38b"
      },
      "execution_count": 50,
      "outputs": [
        {
          "output_type": "stream",
          "name": "stdout",
          "text": [
            "Process 0 sending: 1\n",
            "Process 0 received squared: 1\n",
            "Process 0 sending: 2\n",
            "Process 0 received squared: 4\n",
            "Process 0 sending: 3\n",
            "Process 0 received squared: 9\n",
            "Process 0 sending: 4\n",
            "Process 0 received squared: 16\n",
            "Process 0 sending: 5\n",
            "Process 0 received squared: 25\n"
          ]
        }
      ]
    },
    {
      "cell_type": "markdown",
      "source": [
        "### Process sync with shared memory"
      ],
      "metadata": {
        "id": "YeX4xsX_rqPV"
      }
    },
    {
      "cell_type": "code",
      "source": [
        "%%writefile bidirec_shared_memory.py\n",
        "\n",
        "from mpi4py import MPI\n",
        "import numpy as np\n",
        "import time\n",
        "\n",
        "comm = MPI.COMM_WORLD\n",
        "rank = comm.Get_rank()\n",
        "size = comm.Get_size()\n",
        "\n",
        "N = 5  # Number of iterations\n",
        "array_size = 4  # Size of shared array\n",
        "\n",
        "# Create a shared memory buffer\n",
        "win = MPI.Win.Allocate_shared(array_size * np.dtype('i').itemsize, np.dtype('i').itemsize, comm=comm)\n",
        "\n",
        "# Get shared memory array reference\n",
        "buf, itemsize = win.Shared_query(0)  # Rank 0 creates the memory\n",
        "shared_array = np.ndarray(buffer=buf, dtype='i', shape=(array_size,))\n",
        "\n",
        "# Create a flag in shared memory\n",
        "flag_win = MPI.Win.Allocate_shared(np.dtype('i').itemsize, np.dtype('i').itemsize, comm=comm)\n",
        "flag_buf, _ = flag_win.Shared_query(0)\n",
        "flag = np.ndarray(buffer=flag_buf, dtype='i', shape=(1,))\n",
        "\n",
        "if rank == 0:\n",
        "    for iter in range(N):\n",
        "        # Initialize array\n",
        "        shared_array[:] = np.arange(1, array_size + 1) * (iter + 1)\n",
        "        print(f\"Process 0: Initialized array: {shared_array}\")\n",
        "\n",
        "        # Signal process 1 to start processing\n",
        "        flag[0] = 1\n",
        "        flag_win.Sync()\n",
        "\n",
        "        # Wait for process 1 to finish\n",
        "        while flag[0] != 2:\n",
        "            flag_win.Sync()\n",
        "            time.sleep(0.01)\n",
        "\n",
        "        # Sum the modified array\n",
        "        total = np.sum(shared_array)\n",
        "        print(f\"Process 0: Sum after modification: {total}\")\n",
        "\n",
        "        # Reset flag\n",
        "        flag[0] = 0\n",
        "        flag_win.Sync()\n",
        "\n",
        "elif rank == 1:\n",
        "    for _ in range(N):\n",
        "        # Wait for signal from process 0\n",
        "        while flag[0] != 1:\n",
        "            flag_win.Sync()\n",
        "            time.sleep(0.01)\n",
        "\n",
        "        # Multiply values by 2\n",
        "        shared_array[:] *= 2\n",
        "        print(f\"Process 1: Modified array: {shared_array}\")\n",
        "\n",
        "        # Signal process 0 that modification is done\n",
        "        flag[0] = 2\n",
        "        flag_win.Sync()\n"
      ],
      "metadata": {
        "colab": {
          "base_uri": "https://localhost:8080/"
        },
        "id": "AVpz97lvrEvd",
        "outputId": "67b08b2f-6063-4d3b-bf74-7ae7f7574f58"
      },
      "execution_count": 52,
      "outputs": [
        {
          "output_type": "stream",
          "name": "stdout",
          "text": [
            "Writing bidirec_shared_memory.py\n"
          ]
        }
      ]
    },
    {
      "cell_type": "code",
      "source": [
        "!sudo mpirun  --allow-run-as-root --hostfile my_hostfile -np 4 python bidirec_shared_memory.py"
      ],
      "metadata": {
        "colab": {
          "base_uri": "https://localhost:8080/"
        },
        "id": "wtTNWC_qrt2a",
        "outputId": "248bfb9b-b9c1-410d-c9ac-acad426e2a16"
      },
      "execution_count": 53,
      "outputs": [
        {
          "output_type": "stream",
          "name": "stdout",
          "text": [
            "Process 0: Initialized array: [1 2 3 4]\n",
            "Process 1: Modified array: [2 4 6 8]\n",
            "Process 0: Sum after modification: 20\n",
            "Process 0: Initialized array: [2 4 6 8]\n",
            "Process 1: Modified array: [ 4  8 12 16]\n",
            "Process 0: Sum after modification: 40\n",
            "Process 0: Initialized array: [ 3  6  9 12]\n",
            "Process 1: Modified array: [ 6 12 18 24]\n",
            "Process 0: Sum after modification: 60\n",
            "Process 0: Initialized array: [ 4  8 12 16]\n",
            "Process 1: Modified array: [ 8 16 24 32]\n",
            "Process 0: Sum after modification: 80\n",
            "Process 0: Initialized array: [ 5 10 15 20]\n",
            "Process 1: Modified array: [10 20 30 40]\n",
            "Process 0: Sum after modification: 100\n"
          ]
        }
      ]
    },
    {
      "cell_type": "code",
      "source": [],
      "metadata": {
        "id": "EC74kGBosBBy"
      },
      "execution_count": null,
      "outputs": []
    }
  ]
}